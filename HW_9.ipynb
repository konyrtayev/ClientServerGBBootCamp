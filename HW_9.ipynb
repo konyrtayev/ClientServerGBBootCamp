{
  "nbformat": 4,
  "nbformat_minor": 0,
  "metadata": {
    "colab": {
      "provenance": [],
      "authorship_tag": "ABX9TyMmSqrhHngitrqWDJWS2+HN",
      "include_colab_link": true
    },
    "kernelspec": {
      "name": "python3",
      "display_name": "Python 3"
    },
    "language_info": {
      "name": "python"
    }
  },
  "cells": [
    {
      "cell_type": "markdown",
      "metadata": {
        "id": "view-in-github",
        "colab_type": "text"
      },
      "source": [
        "<a href=\"https://colab.research.google.com/github/konyrtayev/ClientServerGBBootCamp/blob/main/HW_9.ipynb\" target=\"_parent\"><img src=\"https://colab.research.google.com/assets/colab-badge.svg\" alt=\"Open In Colab\"/></a>"
      ]
    },
    {
      "cell_type": "code",
      "execution_count": 20,
      "metadata": {
        "colab": {
          "base_uri": "https://localhost:8080/"
        },
        "id": "LnNakTCyTjUA",
        "outputId": "91b6974a-8e2d-4efc-ca3e-4b925d77f8fa"
      },
      "outputs": [
        {
          "output_type": "execute_result",
          "data": {
            "text/plain": [
              "206683.83635227982"
            ]
          },
          "metadata": {},
          "execution_count": 20
        }
      ],
      "source": [
        "import pandas as pd\n",
        "file_path2 = \"sample_data/california_housing_train.csv\"\n",
        "dataF = pd.read_csv(file_path2, sep = ',')\n",
        "count = dataF[dataF[\"population\"] < 500].shape[0]\n",
        "dataF[dataF[\"population\"] < 500].median_house_value.sum() / count\n",
        "\n"
      ]
    },
    {
      "cell_type": "code",
      "source": [
        "dataF[dataF[\"population\"] == dataF[\"population\"].min()].households.max()"
      ],
      "metadata": {
        "colab": {
          "base_uri": "https://localhost:8080/"
        },
        "id": "GEn1sykWVZ0O",
        "outputId": "da74ab53-f65b-426b-d651-41e2e5474a44"
      },
      "execution_count": 17,
      "outputs": [
        {
          "output_type": "execute_result",
          "data": {
            "text/plain": [
              "4.0"
            ]
          },
          "metadata": {},
          "execution_count": 17
        }
      ]
    }
  ]
}